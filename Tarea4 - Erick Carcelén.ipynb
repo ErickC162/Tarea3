{
 "cells": [
  {
   "cell_type": "raw",
   "metadata": {},
   "source": [
    "---\n",
    "title: \"ESCUELA POLITECNICA NACIONAL\"\n",
    "author: \"Erick Carcelén\"\n",
    "lang: es\n",
    "format:\n",
    " pdf:\n",
    "  toc: true\n",
    "  toc-title: \"Deber N°2\"\n",
    "execute:\n",
    " echo: true\n",
    " error: false\n",
    " warning: false\n",
    "jupyter: python3\n",
    "---"
   ]
  },
  {
   "cell_type": "markdown",
   "metadata": {},
   "source": [
    "#### 1.3.1 Utilice aritmética de corte de tres dígitos para calcular las siguientes sumas. Para cada parte, ¿qué método es más preciso y por qué? \n",
    "\n",
    "##### a. \n",
    "$$\\sum_{i=1}^{10} \\frac{1}{i^2}$$ \n",
    "primero por \n",
    "$$\\frac{1}{1} + \\frac{1}{4} + \\cdots + \\frac{1}{100}$$ \n",
    "y luego por \n",
    "$$\\frac{1}{100} + \\frac{1}{81} + \\cdots + \\frac{1}{1}$$"
   ]
  },
  {
   "cell_type": "code",
   "execution_count": null,
   "metadata": {},
   "outputs": [],
   "source": [
    "def sum_series_square(n, reverse=False):\n",
    "    series_sum = 0.0\n",
    "    \n",
    "    if reverse:\n",
    "        for i in range(n, 0, -1):\n",
    "            term = 1 / (i ** 2)\n",
    "            term = round(term, 3)\n",
    "            series_sum += term\n",
    "            series_sum = round(series_sum, 3)\n",
    "    else:\n",
    "        for i in range(1, n + 1):\n",
    "            term = 1 / (i ** 2)\n",
    "            term = round(term, 3)\n",
    "            series_sum += term\n",
    "            series_sum = round(series_sum, 3)\n",
    "    \n",
    "    return series_sum\n",
    "\n",
    "n = 10\n",
    "asc_sum = sum_series_square(n, reverse=False)\n",
    "desc_sum = sum_series_square(n, reverse=True)\n",
    "\n",
    "print(f\"Suma en orden ascendente: {asc_sum}\")\n",
    "print(f\"Suma en orden descendente: {desc_sum}\")"
   ]
  },
  {
   "cell_type": "markdown",
   "metadata": {},
   "source": [
    "##### b. \n",
    "$$\\sum_{i=1}^{10} \\frac{1}{i^3}$$ \n",
    "primero por \n",
    "$$\\frac{1}{1} + \\frac{1}{8} + \\cdots + \\frac{1}{1000}$$ \n",
    "y luego por \n",
    "$$\\frac{1}{1000} + \\frac{1}{729} + \\cdots + \\frac{1}{1}$$"
   ]
  },
  {
   "cell_type": "code",
   "execution_count": null,
   "metadata": {},
   "outputs": [],
   "source": [
    "def sum_series_cube(n, reverse=False):\n",
    "    series_sum = 0.0\n",
    "    \n",
    "    if reverse:\n",
    "        for i in range(n, 0, -1):\n",
    "            term = 1 / (i ** 3)\n",
    "            term = round(term, 3)\n",
    "            series_sum += term\n",
    "            series_sum = round(series_sum, 3)\n",
    "    else:\n",
    "        for i in range(1, n + 1):\n",
    "            term = 1 / (i ** 3)\n",
    "            term = round(term, 3)\n",
    "            series_sum += term\n",
    "            series_sum = round(series_sum, 3)\n",
    "    \n",
    "    return series_sum\n",
    "\n",
    "n = 10\n",
    "asc_sum = sum_series_cube(n, reverse=False)\n",
    "desc_sum = sum_series_cube(n, reverse=True)\n",
    "\n",
    "print(f\"Suma en orden ascendente: {asc_sum}\")\n",
    "print(f\"Suma en orden descendente: {desc_sum}\")"
   ]
  },
  {
   "cell_type": "markdown",
   "metadata": {},
   "source": [
    "Conclusión: Comparando los resultados, vemos que la suma calculada en el orden inverso es más precisa ($1.590$) que la suma calculada en el orden dado ($1.49$). Esto se debe a que en la suma inversa, los términos más pequeños se suman primero, y como se trata de números pequeños, se reduce el efecto de truncamiento. Por lo tanto, en este caso, el método más preciso es sumar en el orden inverso."
   ]
  },
  {
   "cell_type": "markdown",
   "metadata": {},
   "source": [
    "#### 1.3.2. La serie de Maclaurin para la función arcotangente converge para −1<𝑥≤1 y está dada por \n",
    "$$arctan𝑥=lim 𝑛→∞$$\n",
    "$$ 𝑃𝑛(𝑥)=lim 𝑛→∞$$\n",
    " $$∑(−1)𝑖+1$$\n",
    " $$𝑥2𝑖−1$$\n",
    "$$ 2𝑖−1$$\n",
    " $$𝑛$$\n",
    " $$𝑖=1$$\n",
    " \n",
    "\n",
    "##### a. Utilice el hecho de que $(\\tan(\\pi/4) = 1)$ para determinar el número \\(n\\) de términos de la serie que se necesita sumar para garantizar que \n",
    "$$|4P_n(1) - \\pi| < 10^{-3}$$\n"
   ]
  },
  {
   "cell_type": "code",
   "execution_count": null,
   "metadata": {},
   "outputs": [],
   "source": [
    "import math\n",
    "\n",
    "def maclaurin_arctan_terms(epsilon):\n",
    "    n = 1\n",
    "    approx_pi = 0\n",
    "    term = 1  # Initial term for x = 1\n",
    "    x = 1\n",
    "    \n",
    "    while abs(4 * approx_pi - math.pi) >= epsilon:\n",
    "        approx_pi += (-1)**(n + 1) * x**(2 * n - 1) / (2 * n - 1)\n",
    "        n += 1\n",
    "    \n",
    "    return n - 1  # Subtract 1 because n was incremented one extra time\n",
    "\n",
    "n_terms = maclaurin_arctan_terms(1e-3)\n",
    "print(f\"Number of terms for |4Pn(1) - π| < 10^-3: {n_terms}\")\n"
   ]
  },
  {
   "cell_type": "markdown",
   "metadata": {},
   "source": [
    "##### b. El lenguaje de programación C++ requiere que el valor de $(\\pi)$ se encuentre dentro de $(10^{-10})$. ¿Cuántos términos de la serie se necesitarían sumar para obtener este grado de precisión?"
   ]
  },
  {
   "cell_type": "markdown",
   "metadata": {},
   "source": [
    "Para obtener una precisión de $10^{-10}$ en la aproximación de \n",
    "$\\pi$\n",
    "π utilizando la serie de Maclaurin para $arctan(1)$, se necesitan sumar aproximadamente 500 000 términos de la serie."
   ]
  },
  {
   "cell_type": "markdown",
   "metadata": {},
   "source": [
    "#### 3. Otra fórmula para calcular $\\pi$ se puede deducir a partir de la identidad $\\pi/4 = 4arctan(1/5) - arctan(1/239)$. Determine el número de términos que se deben sumar para garantizar una aproximación $\\pi$ dentro de $10^{-3}$. "
   ]
  },
  {
   "cell_type": "code",
   "execution_count": null,
   "metadata": {},
   "outputs": [],
   "source": [
    "import math\n",
    "\n",
    "def arctan_approximation(x, precision):\n",
    "    sum = 0\n",
    "    term = x\n",
    "    n_terms = 0\n",
    "    \n",
    "    while abs(term) > precision:\n",
    "        sum += term\n",
    "        n_terms += 1\n",
    "        term = -term * x * x * (2 * n_terms - 1) / (2 * n_terms + 1)\n",
    "        \n",
    "    return sum, n_terms\n",
    "\n",
    "def pi_approximation(precision):\n",
    "    arctan_1_5_sum, n_terms_1 = arctan_approximation(1/5, precision)\n",
    "    arctan_1_239_sum, n_terms_2 = arctan_approximation(1/239, precision)\n",
    "    \n",
    "    pi_approx = 4 * (4 * arctan_1_5_sum - arctan_1_239_sum)\n",
    "    \n",
    "    return pi_approx, max(n_terms_1, n_terms_2)\n",
    "\n",
    "precision_pi = 10**-3\n",
    "\n",
    "pi_approx, n_terms_pi = pi_approximation(precision_pi)\n",
    "\n",
    "print(f\"Número de términos para aproximar π con precisión de 10^-3: {n_terms_pi}\")\n",
    "print(f\"Aproximación de π: {pi_approx}\")\n",
    "\n"
   ]
  },
  {
   "cell_type": "markdown",
   "metadata": {},
   "source": [
    "4. Compare los siguientes tres algoritmos. ¿Cuándo es correcto el algoritmo de la parte 1a? \n",
    "\n",
    "     a. ENTRADA 𝑛,𝑥1,𝑥2,⋯,𝑥𝑛. \n",
    "    SALIDA PRODUCT. \n",
    "    Paso 1 Determine PRODUCT = 0. \n",
    "    Paso 2 Para 𝑖 = 1,2,⋯,𝑛 haga \n",
    "    Determine PRODUCT = PRODUCT∗𝑥𝑖. \n",
    "    Paso 3 SALIDA PRODUCT; \n",
    "    PARE.\n",
    "\n",
    "    b. ENTRADA 𝑛,𝑥1,𝑥2,⋯,𝑥𝑛. \n",
    "    SALIDA PRODUCT. \n",
    "    Paso 1 Determine PRODUCT = 1. \n",
    "    Paso 2 Para 𝑖 = 1,2,⋯,𝑛 haga \n",
    "    Set PRODUCT = PRODUCT∗𝑥𝑖. \n",
    "    Paso 3 SALIDA PRODUCT; \n",
    "    PARE. \n",
    "\n",
    "    c. ENTRADA 𝑛,𝑥1,𝑥2,⋯,𝑥𝑛. \n",
    "    SALIDA PRODUCT. \n",
    "    Paso 1 Determine PRODUCT = 1. \n",
    "    Paso 2 Para 𝑖 = 1,2,⋯,𝑛 haga \n",
    "    si 𝑥𝑖=0 entonces determine PRODUCT = 0; \n",
    "    SALIDA PRODUCT; \n",
    "    PARE \n",
    "    Determine PRODUCT = PRODUCT∗𝑥𝑖. \n",
    "    Paso 3 SALIDA PRODUCT; \n",
    "    PARE."
   ]
  },
  {
   "cell_type": "code",
   "execution_count": null,
   "metadata": {},
   "outputs": [],
   "source": [
    "def algorithm_a(n, x):\n",
    "    PRODUCT = 0\n",
    "    for i in range(n):\n",
    "        PRODUCT *= x[i]\n",
    "    return PRODUCT\n",
    "\n",
    "def algorithm_b(n, x):\n",
    "    PRODUCT = 1\n",
    "    for i in range(n):\n",
    "        PRODUCT *= x[i]\n",
    "    return PRODUCT\n",
    "\n",
    "def algorithm_c(n, x):\n",
    "    PRODUCT = 1\n",
    "    for i in range(n):\n",
    "        if x[i] == 0:\n",
    "            PRODUCT = 0\n",
    "            return PRODUCT\n",
    "        PRODUCT *= x[i]\n",
    "    return PRODUCT\n",
    "\n",
    "n = 5\n",
    "x = [1, 2, 3, 4, 5]\n",
    "\n",
    "product_a = algorithm_a(n, x)\n",
    "product_b = algorithm_b(n, x)\n",
    "product_c = algorithm_c(n, x)\n",
    "\n",
    "print(f\"Producto usando algoritmo a: {product_a}\")\n",
    "print(f\"Producto usando algoritmo b: {product_b}\")\n",
    "print(f\"Producto usando algoritmo c: {product_c}\")\n"
   ]
  },
  {
   "cell_type": "markdown",
   "metadata": {},
   "source": [
    "5. a. ¿Cuántas multiplicaciones y sumas se requieren para determinar una suma de la forma \n",
    "$\\sum_{i=1}^{n}$ $\\sum_{j=1}^{i} (a_ib_j)$?\n"
   ]
  },
  {
   "cell_type": "code",
   "execution_count": null,
   "metadata": {},
   "outputs": [],
   "source": [
    "def count_operations(n):\n",
    "    num_multiplications = n * n\n",
    "    num_additions = n * (n - 1)\n",
    "    \n",
    "    return num_multiplications, num_additions\n",
    "\n",
    "n = 5\n",
    "num_multiplications, num_additions = count_operations(n)\n",
    "\n",
    "print(f\"Número de multiplicaciones: {num_multiplications}\")\n",
    "print(f\"Número de sumas: {num_additions}\")\n"
   ]
  },
  {
   "cell_type": "markdown",
   "metadata": {},
   "source": [
    "b. Modifique la suma en la parte a) a un formato equivalente que reduzca el número de cálculos. "
   ]
  },
  {
   "cell_type": "code",
   "execution_count": null,
   "metadata": {},
   "outputs": [],
   "source": [
    "def optimized_sum(a, b, n):\n",
    "    total_sum = 0.0\n",
    "    for i in range(n):\n",
    "        row_sum = 0.0\n",
    "        for j in range(n):\n",
    "            row_sum += a[i] * b[j]\n",
    "        total_sum += row_sum\n",
    "    return total_sum\n",
    "\n",
    "a = [1, 2, 3, 4, 5]\n",
    "b = [5, 4, 3, 2, 1]\n",
    "n = 5\n",
    "\n",
    "optimized_total_sum = optimized_sum(a, b, n)\n",
    "print(f\"Suma total optimizada: {optimized_total_sum}\")\n"
   ]
  },
  {
   "cell_type": "markdown",
   "metadata": {},
   "source": [
    "### DISCUSIONES \n",
    "#### 1. Escriba un algoritmo para sumar la serie finita $\\sum_{i=1}^{n}$ en orden inverso. "
   ]
  },
  {
   "cell_type": "code",
   "execution_count": null,
   "metadata": {},
   "outputs": [],
   "source": [
    "def sum_series_reverse(x):\n",
    "    series_sum = 0.0\n",
    "    for i in range(len(x) - 1, -1, -1):\n",
    "        series_sum += x[i]\n",
    "    return series_sum\n",
    "\n",
    "x = [1, 2, 3, 4, 5]\n",
    "series_sum_reverse = sum_series_reverse(x)\n",
    "\n",
    "print(f\"Suma de la serie en orden inverso: {series_sum_reverse}\")\n"
   ]
  },
  {
   "cell_type": "markdown",
   "metadata": {},
   "source": [
    " Las ecuaciones (1.2) y (1.3) en la sección 1.2 proporcionan formas alternativas para las raíces $x_1$ y $x_2$ de $ax^2+bx+c=0$. Construya un algoritmo con entrada 𝑎,𝑏,𝑐 c y salida $x_1,x_2$ que calcule las raíces $x_1$ y $x_2$ \n",
    "(que pueden ser iguales con conjugados complejos) mediante la mejor fórmula para cada raíz. "
   ]
  },
  {
   "cell_type": "code",
   "execution_count": null,
   "metadata": {},
   "outputs": [],
   "source": [
    "import cmath\n",
    "\n",
    "def quadratic_roots(a, b, c):\n",
    "    discriminant = b**2 - 4*a*c\n",
    "    if discriminant >= 0:\n",
    "        x1 = (-b + math.sqrt(discriminant)) / (2*a)\n",
    "        x2 = (-b - math.sqrt(discriminant)) / (2*a)\n",
    "    else:\n",
    "        x1 = (-b + cmath.sqrt(discriminant)) / (2*a)\n",
    "        x2 = (-b - cmath.sqrt(discriminant)) / (2*a)\n",
    "    \n",
    "    return x1, x2\n",
    "\n",
    "a, b, c = 1, -3, 2  # Ejemplo: x^2 - 3x + 2 = 0\n",
    "x1, x2 = quadratic_roots(a, b, c)\n",
    "\n",
    "print(f\"Raíces de la ecuación cuadrática: x1 = {x1}, x2 = {x2}\")"
   ]
  },
  {
   "cell_type": "markdown",
   "metadata": {},
   "source": [
    "3. Suponga que $$\\frac{1-2x}{1-x-x^{2}}+\\frac{2x-4x^{3}}{1-x^{2}-x^{4}}+\\frac{4x^{3}-8x^{7}}{1-x^{4}+x^{8}}+ ... = \\frac{1+2x}{1+x+x^{2}}$$ para $x<1$ y si $x=0.25$. Escriba y ejecute un algoritmo que determine el número de términos necesarios en el lado izquierdo de la ecuación de tal forma que el lado izquierdo difiera del lado derecho en menos de $10^{−6}$."
   ]
  },
  {
   "cell_type": "code",
   "execution_count": null,
   "metadata": {},
   "outputs": [],
   "source": [
    "def calcular_lado_izquierdo(x, n):\n",
    "    primer_termino = (1 - 2*x) / (1 - x - x**2)\n",
    "    razon_comun = x**2\n",
    "    suma = primer_termino / (1 - razon_comun**n)\n",
    "    return suma\n",
    "\n",
    "def calcular_lado_derecho(x):\n",
    "    return (1 + 2*x) / (1 + x + x**2)\n",
    "\n",
    "def encontrar_numero_de_terminos(x, tolerancia):\n",
    "    n = 1\n",
    "    while True:\n",
    "        lado_izquierdo = calcular_lado_izquierdo(x, n)\n",
    "        lado_derecho = calcular_lado_derecho(x)\n",
    "        diferencia = abs(lado_izquierdo - lado_derecho)\n",
    "        print(f\"Iteración {n}: Lado izquierdo = {lado_izquierdo}, Lado derecho = {lado_derecho}, Diferencia = {diferencia}\")\n",
    "        if diferencia < tolerancia:\n",
    "            return n\n",
    "        n += 1\n",
    "\n",
    "x = 0.25\n",
    "tolerancia = 1e-6\n",
    "numero_de_terminos = encontrar_numero_de_terminos(x, tolerancia)\n",
    "print(\"Número de términos necesarios:\", numero_de_terminos)"
   ]
  },
  {
   "cell_type": "code",
   "execution_count": null,
   "metadata": {},
   "outputs": [],
   "source": []
  }
 ],
 "metadata": {
  "kernelspec": {
   "display_name": "Python 3 (ipykernel)",
   "language": "python",
   "name": "python3"
  },
  "language_info": {
   "codemirror_mode": {
    "name": "ipython",
    "version": 3
   },
   "file_extension": ".py",
   "mimetype": "text/x-python",
   "name": "python",
   "nbconvert_exporter": "python",
   "pygments_lexer": "ipython3",
   "version": "3.11.7"
  }
 },
 "nbformat": 4,
 "nbformat_minor": 4
}
